{
 "cells": [
  {
   "cell_type": "markdown",
   "metadata": {},
   "source": [
    "A great way to count things is by using the counter class in python:\n",
    "from collections import Counter\n",
    "\n",
    "then for example you can do:\n",
    "\n",
    "scores = Counter()\n",
    "\n",
    "Add a bunch of scores, like an array/dict\n",
    "\n",
    "scores.most_common(10) returns the top 10\n",
    "\n"
   ]
  },
  {
   "cell_type": "markdown",
   "metadata": {},
   "source": [
    "Neural networks dont really learn data; they minimize the loss function.\n",
    "\n",
    "Learning is all abot constructing a loss function and then minimizing it."
   ]
  }
 ],
 "metadata": {
  "kernelspec": {
   "display_name": "Python 3",
   "language": "python",
   "name": "python3"
  },
  "language_info": {
   "codemirror_mode": {
    "name": "ipython",
    "version": 3
   },
   "file_extension": ".py",
   "mimetype": "text/x-python",
   "name": "python",
   "nbconvert_exporter": "python",
   "pygments_lexer": "ipython3",
   "version": "3.8.2"
  }
 },
 "nbformat": 4,
 "nbformat_minor": 4
}
