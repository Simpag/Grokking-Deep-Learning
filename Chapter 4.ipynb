{
 "cells": [
  {
   "cell_type": "code",
   "execution_count": 2,
   "metadata": {},
   "outputs": [
    {
     "name": "stdout",
     "output_type": "stream",
     "text": [
      "------\n",
      "Weight:  0.0\n",
      "Error:  0.010000000000000002  Prediction:  0.0\n",
      "Delta:  -0.1  Weight Delta:  -0.11000000000000001\n",
      "------\n",
      "Weight:  0.11000000000000001\n",
      "Error:  0.0004410000000000008  Prediction:  0.12100000000000002\n",
      "Delta:  0.02100000000000002  Weight Delta:  0.023100000000000023\n",
      "------\n",
      "Weight:  0.08689999999999999\n",
      "Error:  1.94481000000001e-05  Prediction:  0.09559\n",
      "Delta:  -0.004410000000000011  Weight Delta:  -0.004851000000000012\n",
      "------\n",
      "Weight:  0.091751\n",
      "Error:  8.576612099999984e-07  Prediction:  0.1009261\n",
      "Delta:  0.0009260999999999991  Weight Delta:  0.001018709999999999\n"
     ]
    }
   ],
   "source": [
    "weight, goal_pred, inp = (0.0, 0.1, 1.1)\n",
    "\n",
    "for iteration in range(4):\n",
    "    print(\"------\\nWeight: \", weight)\n",
    "    pred = inp * weight             # Make a prediction\n",
    "    error = (pred - goal_pred) ** 2 # Take the mean squared error\n",
    "    delta = pred - goal_pred        # Calculate the delta from the real value\n",
    "    weight_delta = delta * inp      # Scale, stop and negative reversal \n",
    "    weight -= weight_delta          # Change the weight and iterate again\n",
    "    print(\"Error: \", error, \" Prediction: \", pred)\n",
    "    print(\"Delta: \", delta, \" Weight Delta: \", weight_delta)"
   ]
  },
  {
   "cell_type": "markdown",
   "metadata": {},
   "source": [
    "This chapter slowly introduces gradient didescent and derivaties. Not much to write down but a fun chapter to really study the examples.\n",
    "\n",
    "This is my own implementation from memory."
   ]
  },
  {
   "cell_type": "code",
   "execution_count": 12,
   "metadata": {},
   "outputs": [
    {
     "name": "stdout",
     "output_type": "stream",
     "text": [
      "0.010000000000000002  :  0.0  :  -0.4  :  0.04000000000000001\n",
      "0.0003999999999999996  :  0.08000000000000002  :  -0.07999999999999996  :  0.048\n",
      "1.600000000000003e-05  :  0.096  :  -0.016000000000000014  :  0.049600000000000005\n",
      "6.399999999999923e-07  :  0.09920000000000001  :  -0.0031999999999999806  :  0.049920000000000006\n",
      "2.5599999999997913e-08  :  0.09984000000000001  :  -0.0006399999999999739  :  0.049984\n",
      "1.024000000000272e-09  :  0.099968  :  -0.000128000000000017  :  0.0499968\n",
      "4.09600000000464e-11  :  0.0999936  :  -2.56000000000145e-05  :  0.04999936\n",
      "1.6384000000160668e-12  :  0.09999872  :  -5.1200000000251045e-06  :  0.049999872\n",
      "6.553600000206377e-14  :  0.099999744  :  -1.0240000000161231e-06  :  0.0499999744\n",
      "2.6214400003667673e-15  :  0.0999999488  :  -2.0480000001432686e-07  :  0.04999999488\n",
      "1.048576000146707e-16  :  0.09999998976  :  -4.096000000286537e-08  :  0.049999998976\n",
      "4.194304023324195e-18  :  0.099999997952  :  -8.192000022777535e-09  :  0.0499999997952\n",
      "1.6777216548044137e-19  :  0.0999999995904  :  -1.6384000267599674e-09  :  0.049999999959040003\n",
      "6.7108861644703044e-21  :  0.09999999991808001  :  -3.2767999424976324e-10  :  0.049999999991808\n",
      "2.6843562847778015e-22  :  0.099999999983616  :  -6.553602105441314e-11  :  0.049999999998361605\n",
      "1.0737388759342263e-23  :  0.09999999999672321  :  -1.3107182006422136e-11  :  0.04999999999967232\n",
      "4.295028263521311e-25  :  0.09999999999934464  :  -2.6214586057449196e-12  :  0.049999999999934465\n",
      "1.7180840662714515e-26  :  0.09999999999986893  :  -5.243028233792302e-13  :  0.049999999999986895\n",
      "6.872336265085806e-28  :  0.09999999999997379  :  -1.0486056467584604e-13  :  0.04999999999999738\n",
      "2.751845741738258e-29  :  0.09999999999999476  :  -2.098321516541546e-14  :  0.049999999999999475\n",
      "1.1124171358780674e-30  :  0.09999999999999895  :  -4.218847493575595e-15  :  0.0499999999999999\n",
      "4.3333423748712807e-32  :  0.0999999999999998  :  -8.326672684688674e-16  :  0.04999999999999998\n",
      "1.7333369499485123e-33  :  0.09999999999999996  :  -1.6653345369377348e-16  :  0.049999999999999996\n",
      "1.925929944387236e-34  :  0.09999999999999999  :  -5.551115123125783e-17  :  0.05\n",
      "0.0  :  0.1  :  0.0  :  0.05\n"
     ]
    }
   ],
   "source": [
    "weight, goal_pred, inp, alpha = (0.0, 0.1, 2, 0.1)\n",
    "    \n",
    "for i in range(25):\n",
    "    pred = inp * weight\n",
    "    error = (pred - goal_pred) ** 2\n",
    "    deriv = inp*(inp * weight - goal_pred)*2\n",
    "    weight = weight - deriv * alpha\n",
    "    print(error, \" : \", pred, \" : \", deriv, \" : \", weight)"
   ]
  },
  {
   "cell_type": "markdown",
   "metadata": {},
   "source": []
  }
 ],
 "metadata": {
  "kernelspec": {
   "display_name": "Python 3",
   "language": "python",
   "name": "python3"
  },
  "language_info": {
   "codemirror_mode": {
    "name": "ipython",
    "version": 3
   },
   "file_extension": ".py",
   "mimetype": "text/x-python",
   "name": "python",
   "nbconvert_exporter": "python",
   "pygments_lexer": "ipython3",
   "version": "3.7.7"
  }
 },
 "nbformat": 4,
 "nbformat_minor": 4
}
