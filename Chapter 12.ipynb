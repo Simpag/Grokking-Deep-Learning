{
 "cells": [
  {
   "cell_type": "code",
   "execution_count": 2,
   "metadata": {},
   "outputs": [],
   "source": [
    "import sys, random, math\n",
    "from collections import Counter\n",
    "import numpy as np\n",
    "\n",
    "f = open('tasksv11/en/qa1_single-supporting-fact_train.txt','r')\n",
    "raw = f.readlines()\n",
    "f.close()\n",
    "\n",
    "tokens = list()\n",
    "for line in raw[0:1000]:\n",
    "    tokens.append(line.lower().replace(\"\\n\",\"\").split(\" \")[1:])\n",
    "    \n",
    "vocab = set()\n",
    "for sent in tokens:\n",
    "    for word in sent:\n",
    "        vocab.add(word)\n",
    "\n",
    "vocab = list(vocab)\n",
    "\n",
    "word2index = {}\n",
    "for i,word in enumerate(vocab):\n",
    "    word2index[word]=i"
   ]
  },
  {
   "cell_type": "code",
   "execution_count": 3,
   "metadata": {},
   "outputs": [],
   "source": [
    "def softmax(x):\n",
    "    e_x = np.exp(x - np.max(x))\n",
    "    return e_x / e_x.sum(axis=0)\n",
    "\n",
    "def words2indices(sentence):\n",
    "    idx = list()\n",
    "    for word in sentence:\n",
    "        idx.append(word2index[word])\n",
    "    return idx"
   ]
  },
  {
   "cell_type": "code",
   "execution_count": 4,
   "metadata": {},
   "outputs": [],
   "source": [
    "np.random.seed(1)\n",
    "embed_size = 10\n",
    "\n",
    "embed = (np.random.rand(len(vocab), embed_size) - 0.5) * 0.1\n",
    "\n",
    "recurrent = np.eye(embed_size)\n",
    "\n",
    "start = np.zeros(embed_size)\n",
    "\n",
    "decoder = (np.random.rand(embed_size, len(vocab)) - 0.5) * 0.1 # output weights\n",
    "\n",
    "one_hot = np.eye(len(vocab))"
   ]
  },
  {
   "cell_type": "code",
   "execution_count": 5,
   "metadata": {},
   "outputs": [],
   "source": [
    "def predict(sent):\n",
    "    layers = list()\n",
    "    layer = {}\n",
    "    layer['hidden'] = start\n",
    "    layers.append(layer)\n",
    "    \n",
    "    loss = 0\n",
    "    \n",
    "    preds = list()\n",
    "    for target_i in range(len(sent)):\n",
    "        layer = {}\n",
    "        layer['pred'] = softmax(layers[-1]['hidden'].dot(decoder))\n",
    "        loss += -np.log(layer['pred'][sent[target_i]])\n",
    "        layer['hidden'] = layers[-1]['hidden'].dot(recurrent) + embed[sent[target_i]]\n",
    "        layers.append(layer)\n",
    "    \n",
    "    return layers, loss"
   ]
  },
  {
   "cell_type": "code",
   "execution_count": 6,
   "metadata": {},
   "outputs": [],
   "source": [
    "def net():\n",
    "    global decoder, recurrent, start\n",
    "    for iter in range(30000): # Forwardprop\n",
    "        alpha = 0.001\n",
    "        sent = words2indices(tokens[iter%len(tokens)][1:])\n",
    "        layers, loss = predict(sent)\n",
    "\n",
    "        for layer_idx in reversed(range(len(layers))): # Backprop\n",
    "            layer = layers[layer_idx]\n",
    "            target = sent[layer_idx-1]\n",
    "            \n",
    "            if (layer_idx > 0): # if its not the first layer\n",
    "                layer['output_delta'] = layer['pred'] - one_hot[target]\n",
    "                new_hidden_delta = layer['output_delta'].dot(decoder.T)\n",
    "                \n",
    "                if (layer_idx == len(layers) - 1):\n",
    "                    layer['hidden_delta'] = new_hidden_delta\n",
    "                else:\n",
    "                    layer['hidden_delta'] = new_hidden_delta + layers[layer_idx+1]['hidden_delta'].dot(recurrent.T)\n",
    "            else:\n",
    "                layer['hidden_delta'] = layers[layer_idx+1]['hidden_delta'].dot(recurrent.T)\n",
    "                \n",
    "        start -= layers[0]['hidden_delta'] * alpha/float(len(sent))\n",
    "        for layer_idx,layer in enumerate(layers[1:]):\n",
    "            decoder -= np.outer(layers[layer_idx]['hidden'], layer['output_delta']) * alpha / float(len(sent))\n",
    "            \n",
    "            embed_idx = sent[layer_idx]\n",
    "            embed[embed_idx] -= layers[layer_idx]['hidden_delta'] * alpha / float(len(sent))\n",
    "            \n",
    "            recurrent -= np.outer(layers[layer_idx]['hidden'], layer['hidden_delta']) * alpha / float(len(sent))\n",
    "            \n",
    "        if (iter % 1000 == 0):\n",
    "            print(\"Perplexity: \", np.exp(loss/len(sent)))\n",
    "                "
   ]
  },
  {
   "cell_type": "code",
   "execution_count": 7,
   "metadata": {},
   "outputs": [
    {
     "name": "stdout",
     "output_type": "stream",
     "text": [
      "Perplexity:  82.04853763160185\n",
      "Perplexity:  81.97865097135555\n",
      "Perplexity:  81.86092949447317\n",
      "Perplexity:  81.62319186189592\n",
      "Perplexity:  81.11862125139729\n",
      "Perplexity:  79.99830202398905\n",
      "Perplexity:  77.22750833796393\n",
      "Perplexity:  68.0611757652277\n",
      "Perplexity:  37.750523481948505\n",
      "Perplexity:  22.653961024431805\n",
      "Perplexity:  20.005867935205345\n",
      "Perplexity:  18.91573063754801\n",
      "Perplexity:  17.801768234726683\n",
      "Perplexity:  16.282192885700297\n",
      "Perplexity:  13.940173076229952\n",
      "Perplexity:  10.846999160481582\n",
      "Perplexity:  8.289444628471909\n",
      "Perplexity:  6.932582994587655\n",
      "Perplexity:  6.084344811808846\n",
      "Perplexity:  5.490221485013707\n",
      "Perplexity:  5.109966296676601\n",
      "Perplexity:  4.88505560771513\n",
      "Perplexity:  4.728635496436536\n",
      "Perplexity:  4.622246242480398\n",
      "Perplexity:  4.557733531920261\n",
      "Perplexity:  4.515676030407581\n",
      "Perplexity:  4.473599177027516\n",
      "Perplexity:  4.421592771482916\n",
      "Perplexity:  4.361734814415217\n",
      "Perplexity:  4.2967153824719455\n"
     ]
    }
   ],
   "source": [
    "net()"
   ]
  },
  {
   "cell_type": "code",
   "execution_count": 10,
   "metadata": {},
   "outputs": [
    {
     "name": "stdout",
     "output_type": "stream",
     "text": [
      "['sandra', 'moved', 'to', 'the', 'garden.']\n",
      "Prev Input: sandra       True: moved            Pred: is\n",
      "Prev Input: moved        True: to               Pred: to\n",
      "Prev Input: to           True: the              Pred: the\n",
      "Prev Input: the          True: garden.          Pred: bedroom.\n"
     ]
    }
   ],
   "source": [
    "sent_index = 4\n",
    "\n",
    "l, _ = predict(words2indices(tokens[sent_index]))\n",
    "print(tokens[sent_index])\n",
    "\n",
    "for i,each_layer in enumerate(l[1:-1]):\n",
    "    inp = tokens[sent_index][i]\n",
    "    true = tokens[sent_index][i+1]\n",
    "    pred = vocab[each_layer['pred'].argmax()]\n",
    "    print(\"Prev Input:\", inp, (' ' * (12 - len(inp))) +\\\n",
    "          \"True:\", true, (\" \" * (15 - len(true))), \"Pred:\", pred)"
   ]
  },
  {
   "cell_type": "code",
   "execution_count": null,
   "metadata": {},
   "outputs": [],
   "source": []
  }
 ],
 "metadata": {
  "kernelspec": {
   "display_name": "Python 3",
   "language": "python",
   "name": "python3"
  },
  "language_info": {
   "codemirror_mode": {
    "name": "ipython",
    "version": 3
   },
   "file_extension": ".py",
   "mimetype": "text/x-python",
   "name": "python",
   "nbconvert_exporter": "python",
   "pygments_lexer": "ipython3",
   "version": "3.7.7"
  }
 },
 "nbformat": 4,
 "nbformat_minor": 4
}
