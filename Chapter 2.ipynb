{
 "cells": [
  {
   "cell_type": "markdown",
   "metadata": {},
   "source": [
    "Deep learning is a subset of machine learning. \n",
    "\n",
    "Deep learning is often used in fields such as computer vision, natural langugage processing and automatic speech recognintion\n",
    "\n",
    "Machine learning is a subfield of computer science wherein machines learn to perform tasks for which they were not excplicitly programmed.\n",
    "\n",
    "Supervised ML is sometimes called narrow AI. It takes know data and converts it into what you want to know. You know the output of supervised ML and its trained on known data. There is a right answer to the output.\n",
    "\n",
    "Unsupervised ML transforms known data into something not previously known or understood. There is no right answer to the output, you tell the machine to find patterns  in the input data and tell you about them.\n",
    "Examples of this can be to group a list of data into clusters. The algoritm finds some structure and groups the data. \n",
    "\n",
    "Parametric models consists of a fixed number of parameters whereas a nonparametric model consits of an infinite, unknown, amount of parameters. \n",
    "\n",
    "Supervised, unsupervised, parametric and nonparametric are four different types of algorithms.\n",
    "\n"
   ]
  }
 ],
 "metadata": {
  "kernelspec": {
   "display_name": "Python 3",
   "language": "python",
   "name": "python3"
  },
  "language_info": {
   "codemirror_mode": {
    "name": "ipython",
    "version": 3
   },
   "file_extension": ".py",
   "mimetype": "text/x-python",
   "name": "python",
   "nbconvert_exporter": "python",
   "pygments_lexer": "ipython3",
   "version": "3.8.2"
  }
 },
 "nbformat": 4,
 "nbformat_minor": 4
}
