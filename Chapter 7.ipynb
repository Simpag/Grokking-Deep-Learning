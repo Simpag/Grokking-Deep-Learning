{
 "cells": [
  {
   "cell_type": "markdown",
   "metadata": {},
   "source": [
    "Correlation summarization - Neural networks seek to find direct and indeirect correlation between input layer and output layer. \n",
    "\n",
    "Local correlation summarization - Any given set of weights optimizes to lean how to correlate its input layer with what the output layer says it should be.\n",
    "\n",
    "Global correlation summarization - What an earlier layer says it should be can be determined by taking what a later layer says it should be and mutliplying it by the weights in between them. This way, later layers can tell earlier layers what kind of signal they need to ultimately find correlation with the output. This corss communication is called backpropagation. \n",
    "\n",
    "The key takeaway from this chaper is that a good neural network architecture channel signal so that correlation is easy to discover. Great architecture also filter noise to help prevent overfitting."
   ]
  }
 ],
 "metadata": {
  "kernelspec": {
   "display_name": "Python 3",
   "language": "python",
   "name": "python3"
  },
  "language_info": {
   "codemirror_mode": {
    "name": "ipython",
    "version": 3
   },
   "file_extension": ".py",
   "mimetype": "text/x-python",
   "name": "python",
   "nbconvert_exporter": "python",
   "pygments_lexer": "ipython3",
   "version": "3.7.7"
  }
 },
 "nbformat": 4,
 "nbformat_minor": 4
}
