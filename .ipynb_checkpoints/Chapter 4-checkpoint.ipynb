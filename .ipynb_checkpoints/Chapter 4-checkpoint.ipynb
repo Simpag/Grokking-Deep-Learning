{
 "cells": [
  {
   "cell_type": "code",
   "execution_count": 1,
   "metadata": {},
   "outputs": [
    {
     "name": "stdout",
     "output_type": "stream",
     "text": [
      "------\n",
      "Weight:  0.0\n"
     ]
    },
    {
     "ename": "NameError",
     "evalue": "name 'weight_delt' is not defined",
     "output_type": "error",
     "traceback": [
      "\u001b[0;31m---------------------------------------------------------------------------\u001b[0m",
      "\u001b[0;31mNameError\u001b[0m                                 Traceback (most recent call last)",
      "\u001b[0;32m<ipython-input-1-ec8ac5fba4b6>\u001b[0m in \u001b[0;36m<module>\u001b[0;34m\u001b[0m\n\u001b[1;32m      7\u001b[0m     \u001b[0mdelta\u001b[0m \u001b[0;34m=\u001b[0m \u001b[0mpred\u001b[0m \u001b[0;34m-\u001b[0m \u001b[0mgoal_pred\u001b[0m        \u001b[0;31m# Calculate the delta from the real value\u001b[0m\u001b[0;34m\u001b[0m\u001b[0;34m\u001b[0m\u001b[0m\n\u001b[1;32m      8\u001b[0m     \u001b[0mweight_delta\u001b[0m \u001b[0;34m=\u001b[0m \u001b[0mdelta\u001b[0m \u001b[0;34m*\u001b[0m \u001b[0minp\u001b[0m      \u001b[0;31m# Scale, stop and negative reversal\u001b[0m\u001b[0;34m\u001b[0m\u001b[0;34m\u001b[0m\u001b[0m\n\u001b[0;32m----> 9\u001b[0;31m     \u001b[0mweight\u001b[0m \u001b[0;34m-=\u001b[0m \u001b[0mweight_delt\u001b[0m           \u001b[0;31m# Change the weight and iterate again\u001b[0m\u001b[0;34m\u001b[0m\u001b[0;34m\u001b[0m\u001b[0m\n\u001b[0m\u001b[1;32m     10\u001b[0m     \u001b[0mprint\u001b[0m\u001b[0;34m(\u001b[0m\u001b[0;34m\"Error: \"\u001b[0m\u001b[0;34m,\u001b[0m \u001b[0merror\u001b[0m\u001b[0;34m,\u001b[0m \u001b[0;34m\" Prediction: \"\u001b[0m\u001b[0;34m,\u001b[0m \u001b[0mpred\u001b[0m\u001b[0;34m)\u001b[0m\u001b[0;34m\u001b[0m\u001b[0;34m\u001b[0m\u001b[0m\n\u001b[1;32m     11\u001b[0m     \u001b[0mprint\u001b[0m\u001b[0;34m(\u001b[0m\u001b[0;34m\"Delta: \"\u001b[0m\u001b[0;34m,\u001b[0m \u001b[0mdelta\u001b[0m\u001b[0;34m,\u001b[0m \u001b[0;34m\" Weight Delta: \"\u001b[0m\u001b[0;34m,\u001b[0m \u001b[0mweight_delta\u001b[0m\u001b[0;34m)\u001b[0m\u001b[0;34m\u001b[0m\u001b[0;34m\u001b[0m\u001b[0m\n",
      "\u001b[0;31mNameError\u001b[0m: name 'weight_delt' is not defined"
     ]
    }
   ],
   "source": [
    "weight, goal_pred, inp = (0.0, 0.1, 1.1)\n",
    "\n",
    "for iteration in range(4):\n",
    "    print(\"------\\nWeight: \", weight)\n",
    "    pred = inp * weight             # Make a prediction\n",
    "    error = (pred - goal_pred) ** 2 # Take the mean squared error\n",
    "    delta = pred - goal_pred        # Calculate the delta from the real value\n",
    "    weight_delta = delta * inp      # Scale, stop and negative reversal \n",
    "    weight -= weight_delta          # Change the weight and iterate again\n",
    "    print(\"Error: \", error, \" Prediction: \", pred)\n",
    "    print(\"Delta: \", delta, \" Weight Delta: \", weight_delta)"
   ]
  },
  {
   "cell_type": "markdown",
   "metadata": {},
   "source": [
    "This chapter slowly introduces gradient didescent and derivaties. Not much to write down but a fun chapter to really study the examples.\n",
    "\n",
    "This is my own implementation from memory."
   ]
  },
  {
   "cell_type": "code",
   "execution_count": null,
   "metadata": {},
   "outputs": [],
   "source": [
    "weight, goal_pred, inp, alpha = (0.0, 0.1, 2, 0.01)\n",
    "    \n",
    "for i in range(10):\n",
    "    pred = inp * weight\n",
    "    error = (pred - goal_pred) ** 2\n",
    "    deriv = inp*(inp * weight - goal_pred)*2\n",
    "    weight = weight - deriv * alpha\n",
    "    print(error, \" : \", pred, \" : \", deriv, \" : \", weight)"
   ]
  },
  {
   "cell_type": "markdown",
   "metadata": {},
   "source": []
  }
 ],
 "metadata": {
  "kernelspec": {
   "display_name": "Python 3",
   "language": "python",
   "name": "python3"
  },
  "language_info": {
   "codemirror_mode": {
    "name": "ipython",
    "version": 3
   },
   "file_extension": ".py",
   "mimetype": "text/x-python",
   "name": "python",
   "nbconvert_exporter": "python",
   "pygments_lexer": "ipython3",
   "version": "3.7.7"
  }
 },
 "nbformat": 4,
 "nbformat_minor": 4
}
